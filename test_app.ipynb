{
 "cells": [
  {
   "cell_type": "code",
   "execution_count": 13,
   "metadata": {},
   "outputs": [
    {
     "name": "stderr",
     "output_type": "stream",
     "text": [
      "<ipython-input-13-c139ceb3ca7e>:15: DeprecationWarning: The binary mode of fromstring is deprecated, as it behaves surprisingly on unicode inputs. Use frombuffer instead\n",
      "  nparr = np.fromstring(base64.b64decode(encoded_data), np.uint8)\n"
     ]
    }
   ],
   "source": [
    "import cv2\n",
    "import base64\n",
    "import random\n",
    "import requests\n",
    "import numpy as np\n",
    "from imutils import paths\n",
    "from matplotlib import pyplot as plt\n",
    "\n",
    "url = 'http://0.0.0.0:2103/solve?'\n",
    "\n",
    "img_bytes = requests.get('https://is.fssp.gov.ru/refresh_visual_captcha/').json()['image']\n",
    "\n",
    "def readb64(uri):\n",
    "    encoded_data = uri.split(',')[1]\n",
    "    nparr = np.fromstring(base64.b64decode(encoded_data), np.uint8)\n",
    "    img = cv2.imdecode(nparr, cv2.IMREAD_COLOR)\n",
    "    return img\n",
    "\n",
    "image = readb64(img_bytes)\n",
    "retval, buffer = cv2.imencode('.jpg', image)\n",
    "jpg_as_text = base64.b64encode(buffer)"
   ]
  },
  {
   "cell_type": "code",
   "execution_count": 17,
   "metadata": {},
   "outputs": [],
   "source": [
    "# plt.imshow(image)"
   ]
  },
  {
   "cell_type": "code",
   "execution_count": 15,
   "metadata": {},
   "outputs": [],
   "source": [
    "params = {'image': jpg_as_text}\n",
    "resp = requests.get(url, params=params)"
   ]
  },
  {
   "cell_type": "code",
   "execution_count": 16,
   "metadata": {},
   "outputs": [
    {
     "data": {
      "text/plain": [
       "'д7к76'"
      ]
     },
     "execution_count": 16,
     "metadata": {},
     "output_type": "execute_result"
    }
   ],
   "source": [
    "resp.json()"
   ]
  }
 ],
 "metadata": {
  "kernelspec": {
   "display_name": "Python 3",
   "language": "python",
   "name": "python3"
  },
  "language_info": {
   "codemirror_mode": {
    "name": "ipython",
    "version": 3
   },
   "file_extension": ".py",
   "mimetype": "text/x-python",
   "name": "python",
   "nbconvert_exporter": "python",
   "pygments_lexer": "ipython3",
   "version": "3.8.5"
  }
 },
 "nbformat": 4,
 "nbformat_minor": 4
}
